{
 "cells": [
  {
   "cell_type": "code",
   "execution_count": 1,
   "metadata": {},
   "outputs": [],
   "source": [
    "FN = 'vocabulary-embedding'\n",
    "seed=42\n",
    "vocab_size = 40000\n",
    "embedding_dim = 100\n",
    "lower = False\n",
    "\n",
    "import os\n",
    "DEFAULT_PROJECT_PATH = os.environ['EXPONENTA_PROJECT_PATH']\n"
   ]
  },
  {
   "cell_type": "code",
   "execution_count": 2,
   "metadata": {},
   "outputs": [],
   "source": [
    "import pandas as pd"
   ]
  },
  {
   "cell_type": "code",
   "execution_count": null,
   "metadata": {},
   "outputs": [],
   "source": [
    "from data_loader import *"
   ]
  },
  {
   "cell_type": "code",
   "execution_count": null,
   "metadata": {
    "scrolled": false
   },
   "outputs": [],
   "source": [
    "# dataset = load_dataset(DEFAULT_PROJECT_PATH + \"tg/data/articles2.csv\", num_examples=None, cleanit=False)\n",
    "# save_obj(\"articles2_\", dataset, folder=DEFAULT_PROJECT_PATH + \"tg/data/\")\n",
    "\n",
    "signal_dataset = load_signalmedia_json_gz()\n",
    "# save_obj(\"signalmedia_\", signal_dataset, folder=DEFAULT_PROJECT_PATH + \"tg/data/\")"
   ]
  },
  {
   "cell_type": "code",
   "execution_count": 5,
   "metadata": {},
   "outputs": [
    {
     "name": "stdout",
     "output_type": "stream",
     "text": [
      "success: read data from /Users/MA573RWARR10R/Documents/work/kaf/sn0w_s70rm/tg/data/signalmedia_.pkl\n"
     ]
    }
   ],
   "source": [
    "# data = load_obj(\"articles1_\", folder=DEFAULT_PROJECT_PATH + \"tg/data/\")\n",
    "\n",
    "data = load_obj(\"signalmedia_\", folder=DEFAULT_PROJECT_PATH + \"tg/data/\")"
   ]
  },
  {
   "cell_type": "code",
   "execution_count": 7,
   "metadata": {},
   "outputs": [
    {
     "data": {
      "text/plain": [
       "2"
      ]
     },
     "execution_count": 7,
     "metadata": {},
     "output_type": "execute_result"
    }
   ],
   "source": [
    "len(data)"
   ]
  },
  {
   "cell_type": "code",
   "execution_count": 7,
   "metadata": {},
   "outputs": [
    {
     "name": "stdout",
     "output_type": "stream",
     "text": [
      "Liverpool hopes bloom after brushing aside bumbling Barcelona 4-0\n",
      "always risk read too much into friendlies but the intensity shown Liverpool here suggested that after mixed they are almost ready for the real business Sadio Mané looked blisteringly sharp the right while there was defensive resilience partnership Dejan Lovren and Ragnar Klavan But arguably the most promising aspect was that the first three goals came from pressing high the pitch Jürgen Klopp style beginning take hold and will fascinating see how effective over the coming weeks word caution though Barcelona were some way off full strength showing all the signs team that remain the embryonic stage their preparations Liga does not kick off for another week and numerous key figures including Ivan Rakitic Gérard Piqué and Andrés Iniesta only returned training recent days All three were introduced hour with the game already put bed and the influence Luis Suárez making his first appearance against his former club here and Lionel Messi was minimal Despite that caveat there much for Klopp satisfied with week out from Liverpool Premier League opener against Arsenal They attacked with intent from the first minute when Mané fed another new addition Georginio Wijnaldum within seconds The former Newcastle United player could not convert but was sign things come Adam Lallana played pivotal role the opener intercepting loose Barça and charging forward played quick give and with Roberto Firmino just inside the box before squaring Mané who finished clinically ter Stegen left took little more than minutes for Suárez and Messi come alive but when they did nearly resulted stupendous equaliser The Uruguayan delivered delicious flick into the Argentinian path but his strike went across goal and came back off the post Arda Turan missed sitter eight minutes later after Simon Mignolet parried his initial shot the Turkey midfielder inexplicably missing the target from eight yards under little pressure but beyond that Barça scarcely threatened Philippe Coutinho should have made the 33rd minute when turned Aleix Vidal too easily before cutting and shooting just over Vidal had shocker here before being substituted the interval and must the biggest concern for Luis Enrique Klopp has similar worry left‑back where James Milner captaining the team started and looked relatively solid before coming off three minutes before the break with injury was replaced Alberto Moreno who remains untrustworthy that tempered Liverpool satisfaction blistering start the second half left them feeling buoyed again Mané was crucial once more delivering teasing low cross from the right towards cluster players hovering near the line after Barça were hounded give away possession Jordan Henderson introduced the start the second half was initially awarded the goal but replays showed that Javier Mascherano another former Liverpool player turned the ball into his own net Two minutes later the other substitutes combined make Kevin Stewart nicked the ball off Sergio Busquets near halfway and with Barça defence spread fed Divock Origi The Belgian sped forward and nonchalantly slotted past Claudio Bravo the time the Mexican wave reared its head among the second largest crowd seen since the national stadium reopened the game had lost its intensity but Marko Grujic made added time with looping header after lofted pass from Lazar Markovic There was even time for the dreaded thunder clap but the less said about that the better\n"
     ]
    }
   ],
   "source": [
    "i = 666\n",
    "\n",
    "print(data[i]['HEAD'])\n",
    "print(data[i]['DESC'])"
   ]
  },
  {
   "cell_type": "code",
   "execution_count": 8,
   "metadata": {},
   "outputs": [],
   "source": [
    "from collections import Counter\n",
    "from itertools import chain\n",
    "\n",
    "def get_vocab(lst):\n",
    "    vocabcount = Counter(w for txt in lst for w in txt.split())\n",
    "    vocab = list(map(lambda x: x[0], sorted(vocabcount.items(), key=lambda x: -x[1])))\n",
    "    return vocab, vocabcount\n"
   ]
  },
  {
   "cell_type": "code",
   "execution_count": 9,
   "metadata": {},
   "outputs": [],
   "source": [
    "headslist, descslist = list(), list()\n",
    "\n",
    "for article in data:\n",
    "    headslist.append(article['HEAD'])\n",
    "    descslist.append(article['DESC'])\n"
   ]
  },
  {
   "cell_type": "code",
   "execution_count": 10,
   "metadata": {},
   "outputs": [
    {
     "name": "stdout",
     "output_type": "stream",
     "text": [
      "25148 \n",
      " 25148\n"
     ]
    }
   ],
   "source": [
    "print(len(headslist),\"\\n\", len(descslist))"
   ]
  },
  {
   "cell_type": "code",
   "execution_count": 11,
   "metadata": {},
   "outputs": [],
   "source": [
    "vocab, vocabcount = get_vocab(headslist + descslist)"
   ]
  },
  {
   "cell_type": "code",
   "execution_count": 12,
   "metadata": {},
   "outputs": [
    {
     "name": "stdout",
     "output_type": "stream",
     "text": [
      "['the', 'and', 'that', 'for', 'The', 'was', 'with', 'said', 'have', 'Trump', 'are', 'his', 'from', 'has', 'not', 'they', 'who', 'this', 'about', 'more', 'you', 'would', 'but', 'had', 'their', 'will', 'people', 'were', 'her', 'been', 'But', 'one', 'she', 'which', 'can', 'out', 'its', 'than', 'what', 'all', 'also', 'there', 'when', 'says', 'like', 'could', 'And', 'after', 'other', 'just']\n",
      "... 184529\n"
     ]
    }
   ],
   "source": [
    "print(vocab[:50])\n",
    "print('...', len(vocab))"
   ]
  },
  {
   "cell_type": "code",
   "execution_count": 13,
   "metadata": {},
   "outputs": [
    {
     "data": {
      "image/png": "[encoded data removed]",
      "text/plain": [
       "<Figure size 432x288 with 1 Axes>"
      ]
     },
     "metadata": {
      "needs_background": "light"
     },
     "output_type": "display_data"
    }
   ],
   "source": [
    "import matplotlib.pyplot as plt\n",
    "%matplotlib inline\n",
    "\n",
    "plt.plot([vocabcount[w] for w in vocab]);\n",
    "plt.gca().set_xscale(\"log\", nonposx='clip')\n",
    "plt.gca().set_yscale(\"log\", nonposy='clip')\n",
    "plt.title('word distribution in headlines and discription')\n",
    "plt.xlabel('rank')\n",
    "plt.ylabel('total appearances');"
   ]
  },
  {
   "cell_type": "code",
   "execution_count": 14,
   "metadata": {},
   "outputs": [],
   "source": [
    "empty = 0 # RNN mask of no data\n",
    "eos = 1  # end of sentence\n",
    "start_idx = eos+1 # first real word"
   ]
  },
  {
   "cell_type": "code",
   "execution_count": 15,
   "metadata": {},
   "outputs": [],
   "source": [
    "def get_idx(vocab, vocabcount):\n",
    "    word2idx = dict((word, idx+start_idx) for idx,word in enumerate(vocab))\n",
    "    word2idx['<empty>'] = empty\n",
    "    word2idx['<eos>'] = eos\n",
    "    \n",
    "    idx2word = dict((idx,word) for word,idx in word2idx.items())\n",
    "\n",
    "    return word2idx, idx2word"
   ]
  },
  {
   "cell_type": "code",
   "execution_count": 16,
   "metadata": {},
   "outputs": [],
   "source": [
    "word2idx, idx2word = get_idx(vocab, vocabcount)"
   ]
  },
  {
   "cell_type": "code",
   "execution_count": 17,
   "metadata": {},
   "outputs": [
    {
     "data": {
      "text/plain": [
       "400000"
      ]
     },
     "execution_count": 17,
     "metadata": {},
     "output_type": "execute_result"
    }
   ],
   "source": [
    "glove_name = \"glove/glove.6B.{}d.txt\".format(embedding_dim)\n",
    "import os\n",
    "\n",
    "glove_n_symbols = !wc -l {glove_name}\n",
    "glove_n_symbols = int(glove_n_symbols[0].split()[0])\n",
    "glove_n_symbols"
   ]
  },
  {
   "cell_type": "code",
   "execution_count": 18,
   "metadata": {},
   "outputs": [],
   "source": [
    "import numpy as np\n",
    "\n",
    "glove_index_dict = {}\n",
    "glove_embedding_weights = np.empty((glove_n_symbols, embedding_dim))\n",
    "globale_scale=.1\n",
    "\n",
    "with open(glove_name, 'r') as fp:\n",
    "    i = 0\n",
    "    for l in fp:\n",
    "        l = l.strip().split()\n",
    "        w = l[0]\n",
    "        glove_index_dict[w] = i\n",
    "        glove_embedding_weights[i,:] = [float(i) for i in l[1:]]\n",
    "        i += 1\n",
    "        \n",
    "glove_embedding_weights *= globale_scale"
   ]
  },
  {
   "cell_type": "code",
   "execution_count": 19,
   "metadata": {},
   "outputs": [
    {
     "data": {
      "text/plain": [
       "0.04081572760019029"
      ]
     },
     "execution_count": 19,
     "metadata": {},
     "output_type": "execute_result"
    }
   ],
   "source": [
    "glove_embedding_weights.std()"
   ]
  },
  {
   "cell_type": "code",
   "execution_count": 20,
   "metadata": {},
   "outputs": [],
   "source": [
    "# make dict wider with words in lowercase\n",
    "\n",
    "for w,i in glove_index_dict.items():\n",
    "    w = w.lower()\n",
    "    \n",
    "    if w not in glove_index_dict:\n",
    "        glove_index_dict[w] = i"
   ]
  },
  {
   "cell_type": "code",
   "execution_count": 21,
   "metadata": {},
   "outputs": [
    {
     "name": "stdout",
     "output_type": "stream",
     "text": [
      "random-embedding/glove scale 0.0706949139514209 std 0.04081382495746382\n",
      "number of tokens, in small vocab, found in glove and copied to embedding 38692 0.9673\n"
     ]
    }
   ],
   "source": [
    "# generate random embedding with same scale as glove\n",
    "np.random.seed(seed)\n",
    "shape = (vocab_size, embedding_dim)\n",
    "scale = glove_embedding_weights.std()*np.sqrt(12)/2 # uniform and not normal\n",
    "embedding = np.random.uniform(low=-scale, high=scale, size=shape)\n",
    "print('random-embedding/glove scale', scale, 'std', embedding.std())\n",
    "\n",
    "# copy from glove weights of words that appear in our short vocabulary (idx2word)\n",
    "c = 0\n",
    "for i in range(vocab_size):\n",
    "    w = idx2word[i]\n",
    "    g = glove_index_dict.get(w, glove_index_dict.get(w.lower()))\n",
    "    \n",
    "    if g is None and w.startswith('#'): # glove has no hastags (I think...)\n",
    "        w = w[1:]\n",
    "        g = glove_index_dict.get(w, glove_index_dict.get(w.lower()))\n",
    "        \n",
    "    if g is not None:\n",
    "        embedding[i,:] = glove_embedding_weights[g,:]\n",
    "        c+=1\n",
    "print('number of tokens, in small vocab, found in glove and copied to embedding', c,c/float(vocab_size))"
   ]
  },
  {
   "cell_type": "markdown",
   "metadata": {},
   "source": [
    "lots of word in the full vocabulary (word2idx) are outside vocab_size. Build an alterantive which will map them to their closest match in glove but only if the match is good enough (cos distance above glove_thr)"
   ]
  },
  {
   "cell_type": "code",
   "execution_count": 22,
   "metadata": {},
   "outputs": [],
   "source": [
    "glove_threshold = 0.7"
   ]
  },
  {
   "cell_type": "code",
   "execution_count": 23,
   "metadata": {},
   "outputs": [],
   "source": [
    "word2glove = {}\n",
    "\n",
    "for w in word2idx:\n",
    "    if w in glove_index_dict:\n",
    "        g = w\n",
    "        \n",
    "    elif w.lower() in glove_index_dict:\n",
    "        g = w.lower()\n",
    "        \n",
    "    elif w.startswith('#') and w[1:] in glove_index_dict:\n",
    "        g = w[1:]\n",
    "        \n",
    "    elif w.startswith('#') and w[1:].lower() in glove_index_dict:\n",
    "        g = w[1:].lower()\n",
    "        \n",
    "    else:\n",
    "        continue\n",
    "        \n",
    "    word2glove[w] = g"
   ]
  },
  {
   "cell_type": "markdown",
   "metadata": {},
   "source": [
    "for every word outside the embedding matrix find the closest word inside the mebedding matrix. \n",
    "Use cos distance of GloVe vectors.\n",
    "\n",
    "Allow for the last nb_unknown_words words inside the embedding matrix to be considered to be outside. Dont accept distances below glove_threshold\n"
   ]
  },
  {
   "cell_type": "code",
   "execution_count": 24,
   "metadata": {},
   "outputs": [
    {
     "name": "stdout",
     "output_type": "stream",
     "text": [
      "# of glove substitutes found 27176\n"
     ]
    }
   ],
   "source": [
    "normed_embedding = embedding/np.array([np.sqrt(np.dot(gweight,gweight)) for gweight in embedding])[:,None]\n",
    "\n",
    "nb_unknown_words = 100\n",
    "\n",
    "glove_match = []\n",
    "\n",
    "for w,idx in word2idx.items():\n",
    "    if idx >= vocab_size - nb_unknown_words and w.isalpha() and w in word2glove:\n",
    "        \n",
    "        gidx = glove_index_dict[word2glove[w]]\n",
    "        gweight = glove_embedding_weights[gidx,:].copy()\n",
    "        \n",
    "        # find row in embedding that has the highest cos score with gweight\n",
    "        gweight /= np.sqrt(np.dot(gweight,gweight))\n",
    "        score = np.dot(normed_embedding[:vocab_size - nb_unknown_words], gweight)\n",
    "        \n",
    "        while True:\n",
    "            embedding_idx = score.argmax()\n",
    "            s = score[embedding_idx]\n",
    "            if s < glove_threshold:\n",
    "                break\n",
    "                \n",
    "            if idx2word[embedding_idx] in word2glove:\n",
    "                glove_match.append((w, embedding_idx, s)) \n",
    "                break\n",
    "                \n",
    "            score[embedding_idx] = -1\n",
    "            \n",
    "glove_match.sort(key = lambda x: -x[2])\n",
    "\n",
    "print('# of glove substitutes found', len(glove_match))"
   ]
  },
  {
   "cell_type": "code",
   "execution_count": 25,
   "metadata": {},
   "outputs": [
    {
     "name": "stdout",
     "output_type": "stream",
     "text": [
      "0.7001435830652551 Wallstrom => Margot\n",
      "0.7001398478177454 unobstructed => panoramic\n",
      "0.7001286128140429 manioc => sorghum\n",
      "0.700127651653162 ruminate => opine\n",
      "0.7001212694726331 postpaid => prepaid\n",
      "0.7001207840146133 Livni => Peres\n",
      "0.7001190051989734 misfit => outcast\n",
      "0.7001190051989734 Misfit => outcast\n",
      "0.7001117388540585 Tomin => Elgood\n",
      "0.7001100953394133 temperaments => WorldViews\n",
      "0.7001092052940258 mismatches => mismatch\n",
      "0.7001089789181384 carting => carted\n",
      "0.7001080603527156 climatologist => epidemiologist\n",
      "0.7001038614728194 refashioned => reinvented\n",
      "0.7000958022759798 connective => tissue\n",
      "0.7000779101130641 Chancellorsville => Gettysburg\n",
      "0.7000734711176777 shellshocked => bewildered\n",
      "0.7000734711176777 Shellshocked => bewildered\n",
      "0.7000717628409694 charlatan => buffoon\n",
      "0.700059485531592 fondling => molesting\n",
      "0.7000400159425605 chopsticks => spoons\n",
      "0.7000373177186245 Secaucus => Hoboken\n",
      "0.7000257586322955 inbounds => layup\n",
      "0.7000120655841535 clandestinely => covertly\n",
      "0.7000078082065144 Offenheiser => Bostian\n"
     ]
    }
   ],
   "source": [
    "for orig, sub, score in glove_match[-25:]:\n",
    "    print(score, orig,'=>', idx2word[sub])"
   ]
  },
  {
   "cell_type": "markdown",
   "metadata": {},
   "source": [
    "build a lookup table of index of outside words to index of inside words"
   ]
  },
  {
   "cell_type": "code",
   "execution_count": 61,
   "metadata": {},
   "outputs": [],
   "source": [
    "glove_idx2idx = dict((word2idx[w],embedding_idx) for  w, embedding_idx, _ in glove_match)"
   ]
  },
  {
   "cell_type": "code",
   "execution_count": 62,
   "metadata": {},
   "outputs": [
    {
     "data": {
      "text/plain": [
       "11221"
      ]
     },
     "execution_count": 62,
     "metadata": {},
     "output_type": "execute_result"
    }
   ],
   "source": [
    "Y = [[word2idx[token] for token in headline.split()] for headline in headslist]\n",
    "len(Y)"
   ]
  },
  {
   "cell_type": "code",
   "execution_count": 63,
   "metadata": {},
   "outputs": [
    {
     "data": {
      "image/png": "[encoded data removed]",
      "text/plain": [
       "<Figure size 432x288 with 1 Axes>"
      ]
     },
     "metadata": {
      "needs_background": "light"
     },
     "output_type": "display_data"
    }
   ],
   "source": [
    "plt.hist([len(i) for i in Y], bins=50);"
   ]
  },
  {
   "cell_type": "code",
   "execution_count": 64,
   "metadata": {},
   "outputs": [
    {
     "data": {
      "text/plain": [
       "11221"
      ]
     },
     "execution_count": 64,
     "metadata": {},
     "output_type": "execute_result"
    }
   ],
   "source": [
    "X = [[word2idx[token] for token in d.split()] for d in descslist]\n",
    "len(X)"
   ]
  },
  {
   "cell_type": "code",
   "execution_count": 65,
   "metadata": {},
   "outputs": [
    {
     "data": {
      "image/png": "[encoded data removed]",
      "text/plain": [
       "<Figure size 432x288 with 1 Axes>"
      ]
     },
     "metadata": {
      "needs_background": "light"
     },
     "output_type": "display_data"
    }
   ],
   "source": [
    "plt.hist([len(i) for i in X], bins=50);"
   ]
  },
  {
   "cell_type": "code",
   "execution_count": 66,
   "metadata": {},
   "outputs": [],
   "source": [
    "import pickle\n",
    "\n",
    "with open('data/%s.pkl'%FN,'wb') as fp:\n",
    "    pickle.dump((embedding, idx2word, word2idx, glove_idx2idx),fp,-1)\n"
   ]
  },
  {
   "cell_type": "code",
   "execution_count": 67,
   "metadata": {},
   "outputs": [
    {
     "name": "stdout",
     "output_type": "stream",
     "text": [
      "total 309296\r\n",
      "drwxr-xr-x  11 MA573RWARR10R  staff       352 Oct 31 03:45 \u001b[1m\u001b[34m.\u001b[m\u001b[m\r\n",
      "drwxr-xr-x  23 MA573RWARR10R  staff       736 Oct 31 03:51 \u001b[1m\u001b[34m..\u001b[m\u001b[m\r\n",
      "-rw-r--r--@  1 MA573RWARR10R  staff      6148 Oct 27 01:37 .DS_Store\r\n",
      "-rw-r--r--@  1 MA573RWARR10R  staff  57886802 Oct 31 03:42 foxnews.csv\r\n",
      "-rw-r--r--   1 MA573RWARR10R  staff  32463796 Oct 31 03:45 foxnews_.pkl\r\n",
      "-rw-r--r--@  1 MA573RWARR10R  staff  15628756 Oct 24 14:31 independent.csv\r\n",
      "-rw-r--r--   1 MA573RWARR10R  staff        14 Oct 30 23:08 independent_.pkl\r\n",
      "-rw-r--r--   1 MA573RWARR10R  staff  10861925 Oct 30 23:31 independent_cleaned.pkl\r\n",
      "-rw-r--r--   1 MA573RWARR10R  staff     87746 Oct 26 21:56 vocab.pkl\r\n",
      "-rw-r--r--   1 MA573RWARR10R  staff   4268938 Oct 30 23:40 vocabulary-embedding.data.pkl\r\n",
      "-rw-r--r--   1 MA573RWARR10R  staff  36110145 Oct 31 03:52 vocabulary-embedding.pkl\r\n"
     ]
    }
   ],
   "source": [
    "!ls -la data"
   ]
  },
  {
   "cell_type": "code",
   "execution_count": 68,
   "metadata": {},
   "outputs": [],
   "source": [
    "with open('data/%s.data.pkl'%FN,'wb') as fp:\n",
    "    pickle.dump((X,Y),fp,-1)"
   ]
  },
  {
   "cell_type": "code",
   "execution_count": null,
   "metadata": {},
   "outputs": [],
   "source": []
  }
 ],
 "metadata": {
  "kernelspec": {
   "display_name": "ipykernel-py36-pwsankaf",
   "language": "python",
   "name": "pwsankaf"
  },
  "language_info": {
   "codemirror_mode": {
    "name": "ipython",
    "version": 3
   },
   "file_extension": ".py",
   "mimetype": "text/x-python",
   "name": "python",
   "nbconvert_exporter": "python",
   "pygments_lexer": "ipython3",
   "version": "3.6.5"
  }
 },
 "nbformat": 4,
 "nbformat_minor": 2
}
